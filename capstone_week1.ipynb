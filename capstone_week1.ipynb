import numpy as np
import pandas as pd
[200~print('Hello Capstone Project Course!')

print('Hello Capstone Project Course!')

